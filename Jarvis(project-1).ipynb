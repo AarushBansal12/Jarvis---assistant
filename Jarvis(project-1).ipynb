{
 "cells": [
  {
   "cell_type": "code",
   "execution_count": 2,
   "id": "c145dc3d-d93d-43c9-b464-984d98be6313",
   "metadata": {},
   "outputs": [
    {
     "name": "stdout",
     "output_type": "stream",
     "text": [
      "Requirement already satisfied: SpeechRecognition in /opt/anaconda3/lib/python3.12/site-packages (3.14.3)\n",
      "Requirement already satisfied: typing-extensions in /opt/anaconda3/lib/python3.12/site-packages (from SpeechRecognition) (4.11.0)\n",
      "Note: you may need to restart the kernel to use updated packages.\n"
     ]
    }
   ],
   "source": [
    "pip install SpeechRecognition"
   ]
  },
  {
   "cell_type": "code",
   "execution_count": 4,
   "id": "dafb5375-fce7-4064-98f3-2f4e01bf9cf1",
   "metadata": {},
   "outputs": [
    {
     "name": "stdout",
     "output_type": "stream",
     "text": [
      "Requirement already satisfied: pocketsphinx in /opt/anaconda3/lib/python3.12/site-packages (5.0.4)\n",
      "Requirement already satisfied: sounddevice in /opt/anaconda3/lib/python3.12/site-packages (from pocketsphinx) (0.5.2)\n",
      "Requirement already satisfied: CFFI>=1.0 in /opt/anaconda3/lib/python3.12/site-packages (from sounddevice->pocketsphinx) (1.17.1)\n",
      "Requirement already satisfied: pycparser in /opt/anaconda3/lib/python3.12/site-packages (from CFFI>=1.0->sounddevice->pocketsphinx) (2.21)\n",
      "Note: you may need to restart the kernel to use updated packages.\n"
     ]
    }
   ],
   "source": [
    "pip install pocketsphinx"
   ]
  },
  {
   "cell_type": "code",
   "execution_count": 6,
   "id": "7c13c8c8-41b7-4b0d-8efa-798647857cbc",
   "metadata": {},
   "outputs": [
    {
     "name": "stdout",
     "output_type": "stream",
     "text": [
      "Retrieving notices: done\n",
      "Channels:\n",
      " - anaconda\n",
      " - defaults\n",
      "Platform: osx-arm64\n",
      "Collecting package metadata (repodata.json): done\n",
      "Solving environment: failed\n",
      "\n",
      "PackagesNotFoundError: The following packages are not available from current channels:\n",
      "\n",
      "  - pyaudio\n",
      "\n",
      "Current channels:\n",
      "\n",
      "  - https://conda.anaconda.org/anaconda\n",
      "  - defaults\n",
      "  - https://repo.anaconda.com/pkgs/main\n",
      "  - https://repo.anaconda.com/pkgs/r\n",
      "\n",
      "To search for alternate channels that may provide the conda package you're\n",
      "looking for, navigate to\n",
      "\n",
      "    https://anaconda.org\n",
      "\n",
      "and use the search bar at the top of the page.\n",
      "\n",
      "\n",
      "\n",
      "Note: you may need to restart the kernel to use updated packages.\n"
     ]
    }
   ],
   "source": [
    "conda install -c anaconda pyaudio"
   ]
  },
  {
   "cell_type": "code",
   "execution_count": 8,
   "id": "ffde2aef-94d0-438e-a543-b456cac1d5cc",
   "metadata": {},
   "outputs": [
    {
     "name": "stdout",
     "output_type": "stream",
     "text": [
      "Overwriting musicLibrary.py\n"
     ]
    }
   ],
   "source": [
    "%%writefile musicLibrary.py\n",
    "\n",
    "music = {\n",
    "    \"stealth\": \"https://www.youtube.com/watch?v=U47Tr9BB_wE\",\n",
    "    \"march\": \"https://www.youtube.com/watch?v=Xqeq4b5u_Xw\",\n",
    "    \"skyfall\": \"https://www.youtube.com/watch?v=DeumyOzKqgI&pp=ygUHc2t5ZmFsbA%3D%3D\",\n",
    "    \"wolf\": \"https://www.youtube.com/watch?v=ThCH0U6aJpU&list=PLnrGi_-oOR6wm0Vi-1OsiLiV5ePSPs9oF&index=21\"\n",
    "}"
   ]
  },
  {
   "cell_type": "code",
   "execution_count": 10,
   "id": "786b7b45-7a89-49b3-bba3-99a49c1b3c05",
   "metadata": {},
   "outputs": [
    {
     "name": "stdout",
     "output_type": "stream",
     "text": [
      "Requirement already satisfied: openai in /opt/anaconda3/lib/python3.12/site-packages (1.82.1)\n",
      "Requirement already satisfied: anyio<5,>=3.5.0 in /opt/anaconda3/lib/python3.12/site-packages (from openai) (4.2.0)\n",
      "Requirement already satisfied: distro<2,>=1.7.0 in /opt/anaconda3/lib/python3.12/site-packages (from openai) (1.9.0)\n",
      "Requirement already satisfied: httpx<1,>=0.23.0 in /opt/anaconda3/lib/python3.12/site-packages (from openai) (0.27.0)\n",
      "Requirement already satisfied: jiter<1,>=0.4.0 in /opt/anaconda3/lib/python3.12/site-packages (from openai) (0.10.0)\n",
      "Requirement already satisfied: pydantic<3,>=1.9.0 in /opt/anaconda3/lib/python3.12/site-packages (from openai) (2.8.2)\n",
      "Requirement already satisfied: sniffio in /opt/anaconda3/lib/python3.12/site-packages (from openai) (1.3.0)\n",
      "Requirement already satisfied: tqdm>4 in /opt/anaconda3/lib/python3.12/site-packages (from openai) (4.66.5)\n",
      "Requirement already satisfied: typing-extensions<5,>=4.11 in /opt/anaconda3/lib/python3.12/site-packages (from openai) (4.11.0)\n",
      "Requirement already satisfied: idna>=2.8 in /opt/anaconda3/lib/python3.12/site-packages (from anyio<5,>=3.5.0->openai) (3.7)\n",
      "Requirement already satisfied: certifi in /opt/anaconda3/lib/python3.12/site-packages (from httpx<1,>=0.23.0->openai) (2024.12.14)\n",
      "Requirement already satisfied: httpcore==1.* in /opt/anaconda3/lib/python3.12/site-packages (from httpx<1,>=0.23.0->openai) (1.0.2)\n",
      "Requirement already satisfied: h11<0.15,>=0.13 in /opt/anaconda3/lib/python3.12/site-packages (from httpcore==1.*->httpx<1,>=0.23.0->openai) (0.14.0)\n",
      "Requirement already satisfied: annotated-types>=0.4.0 in /opt/anaconda3/lib/python3.12/site-packages (from pydantic<3,>=1.9.0->openai) (0.6.0)\n",
      "Requirement already satisfied: pydantic-core==2.20.1 in /opt/anaconda3/lib/python3.12/site-packages (from pydantic<3,>=1.9.0->openai) (2.20.1)\n",
      "Note: you may need to restart the kernel to use updated packages.\n"
     ]
    }
   ],
   "source": [
    "pip install openai"
   ]
  },
  {
   "cell_type": "code",
   "execution_count": 12,
   "id": "7e42f084-8590-40e4-92ca-2fa0060d6925",
   "metadata": {},
   "outputs": [
    {
     "name": "stdout",
     "output_type": "stream",
     "text": [
      "Overwriting client.py\n"
     ]
    }
   ],
   "source": [
    "%%writefile client.py\n",
    "\n",
    "from openai import OpenAI\n",
    " \n",
    "# pip install openai \n",
    "# if you saved the key under a different environment variable name, you can do something like:\n",
    "client = OpenAI(\n",
    "  api_key=\"Enter your API key\",\n",
    ")\n",
    "\n",
    "completion = client.chat.completions.create(\n",
    "  model=\"gpt-3.5-turbo\",\n",
    "  messages=[\n",
    "    {\"role\": \"system\", \"content\": \"You are a virtual assistant named jarvis skilled in general tasks like Alexa and Google Cloud\"},\n",
    "    {\"role\": \"user\", \"content\": \"what is coding\"}\n",
    "  ]\n",
    ")\n",
    "\n",
    "print(completion.choices[0].message.content)"
   ]
  },
  {
   "cell_type": "code",
   "execution_count": 14,
   "id": "85650472-999a-43f7-ad3d-f66c49e7d332",
   "metadata": {},
   "outputs": [
    {
     "name": "stdout",
     "output_type": "stream",
     "text": [
      "Requirement already satisfied: gTTS in /opt/anaconda3/lib/python3.12/site-packages (2.5.4)\n",
      "Requirement already satisfied: requests<3,>=2.27 in /opt/anaconda3/lib/python3.12/site-packages (from gTTS) (2.32.3)\n",
      "Requirement already satisfied: click<8.2,>=7.1 in /opt/anaconda3/lib/python3.12/site-packages (from gTTS) (8.1.7)\n",
      "Requirement already satisfied: charset-normalizer<4,>=2 in /opt/anaconda3/lib/python3.12/site-packages (from requests<3,>=2.27->gTTS) (3.3.2)\n",
      "Requirement already satisfied: idna<4,>=2.5 in /opt/anaconda3/lib/python3.12/site-packages (from requests<3,>=2.27->gTTS) (3.7)\n",
      "Requirement already satisfied: urllib3<3,>=1.21.1 in /opt/anaconda3/lib/python3.12/site-packages (from requests<3,>=2.27->gTTS) (2.2.3)\n",
      "Requirement already satisfied: certifi>=2017.4.17 in /opt/anaconda3/lib/python3.12/site-packages (from requests<3,>=2.27->gTTS) (2024.12.14)\n",
      "Note: you may need to restart the kernel to use updated packages.\n"
     ]
    }
   ],
   "source": [
    "pip install gTTS"
   ]
  },
  {
   "cell_type": "code",
   "execution_count": 16,
   "id": "4bce43a4-bc22-443d-b081-c5028ef997b0",
   "metadata": {},
   "outputs": [
    {
     "name": "stdout",
     "output_type": "stream",
     "text": [
      "Requirement already satisfied: pygame in /opt/anaconda3/lib/python3.12/site-packages (2.6.1)\n",
      "Note: you may need to restart the kernel to use updated packages.\n"
     ]
    }
   ],
   "source": [
    "pip install pygame"
   ]
  },
  {
   "cell_type": "code",
   "execution_count": 18,
   "id": "8f89f7a1-3564-4561-8a59-5e1ad30d4f6d",
   "metadata": {},
   "outputs": [],
   "source": [
    "import pyttsx3\n",
    "\n",
    "engine = pyttsx3.init()\n",
    "engine.say(\"Hello, can you hear me?\")\n",
    "engine.runAndWait()"
   ]
  },
  {
   "cell_type": "code",
   "execution_count": null,
   "id": "2c526579-df0b-4949-8285-abbb751ab86e",
   "metadata": {},
   "outputs": [
    {
     "name": "stdout",
     "output_type": "stream",
     "text": [
      "pygame 2.6.1 (SDL 2.28.4, Python 3.12.7)\n",
      "Hello from the pygame community. https://www.pygame.org/contribute.html\n",
      "recognizing...\n",
      "Listening...\n",
      "Jarvis Active...\n",
      "recognizing...\n",
      "Listening...\n",
      "Error; \n",
      "recognizing...\n",
      "Listening...\n",
      "Error; listening timed out while waiting for phrase to start\n",
      "recognizing...\n",
      "Listening...\n"
     ]
    }
   ],
   "source": [
    "import speech_recognition as sr\n",
    "import webbrowser\n",
    "import pyttsx3\n",
    "import musicLibrary\n",
    "import requests\n",
    "from openai import OpenAI\n",
    "from gtts import gTTS\n",
    "import pygame\n",
    "import os\n",
    "\n",
    "# pip install pocketsphinx\n",
    "\n",
    "recognizer = sr.Recognizer()\n",
    "engine = pyttsx3.init() \n",
    "newsapi = \"<Your Key Here>\"\n",
    "\n",
    "def speak_old(text):\n",
    "    engine.say(text)\n",
    "    engine.runAndWait()\n",
    "\n",
    "def speak(text):\n",
    "    tts = gTTS(text)\n",
    "    tts.save('temp.mp3') \n",
    "\n",
    "    # Initialize Pygame mixer\n",
    "    pygame.mixer.init()\n",
    "\n",
    "    # Load the MP3 file\n",
    "    pygame.mixer.music.load('temp.mp3')\n",
    "\n",
    "    # Play the MP3 file\n",
    "    pygame.mixer.music.play()\n",
    "\n",
    "    # Keep the program running until the music stops playing\n",
    "    while pygame.mixer.music.get_busy():\n",
    "        pygame.time.Clock().tick(10)\n",
    "    \n",
    "    pygame.mixer.music.unload()\n",
    "    os.remove(\"temp.mp3\") \n",
    "\n",
    "def aiProcess(command):\n",
    "    client = OpenAI(api_key=\"Enter your API key\",\n",
    "    )\n",
    "\n",
    "    completion = client.chat.completions.create(\n",
    "    model=\"gpt-3.5-turbo\",\n",
    "    messages=[\n",
    "        {\"role\": \"system\", \"content\": \"You are a virtual assistant named jarvis skilled in general tasks like Alexa and Google Cloud. Give short responses please\"},\n",
    "        {\"role\": \"user\", \"content\": command}\n",
    "    ]\n",
    "    )\n",
    "\n",
    "    return completion.choices[0].message.content\n",
    "\n",
    "def processCommand(c):\n",
    "    if \"open google\" in c.lower():\n",
    "        webbrowser.open(\"https://google.com\")\n",
    "    elif \"open facebook\" in c.lower():\n",
    "        webbrowser.open(\"https://facebook.com\")\n",
    "    elif \"open youtube\" in c.lower():\n",
    "        webbrowser.open(\"https://youtube.com\")\n",
    "    elif \"open linkedin\" in c.lower():\n",
    "        webbrowser.open(\"https://linkedin.com\")\n",
    "    elif c.lower().startswith(\"play\"):\n",
    "        song = c.lower().split(\" \")[1]\n",
    "        link = musicLibrary.music[song]\n",
    "        webbrowser.open(link)\n",
    "\n",
    "    elif \"news\" in c.lower():\n",
    "        r = requests.get(f\"https://newsapi.org/v2/top-headlines?country=in&apiKey={newsapi}\")\n",
    "        if r.status_code == 200:\n",
    "            # Parse the JSON response\n",
    "            data = r.json()\n",
    "            \n",
    "            # Extract the articles\n",
    "            articles = data.get('articles', [])\n",
    "            \n",
    "            # Print the headlines\n",
    "            for article in articles:\n",
    "                speak(article['title'])\n",
    "\n",
    "    else:\n",
    "        # Let OpenAI handle the request\n",
    "        output = aiProcess(c)\n",
    "        speak(output) \n",
    "\n",
    "\n",
    "\n",
    "\n",
    "\n",
    "if __name__ == \"__main__\":\n",
    "    speak(\"Initializing Jarvis....\")\n",
    "    while True:\n",
    "        # Listen for the wake word \"Jarvis\"\n",
    "        # obtain audio from the microphone\n",
    "        r = sr.Recognizer()\n",
    "         \n",
    "        print(\"recognizing...\")\n",
    "        try:\n",
    "            with sr.Microphone() as source:\n",
    "                print(\"Listening...\")\n",
    "                audio = r.listen(source, timeout=2, phrase_time_limit=1)\n",
    "            word = r.recognize_google(audio)\n",
    "            if(word.lower() == \"jarvis\"):\n",
    "                speak(\"Ya\")\n",
    "                # Listen for command\n",
    "                with sr.Microphone() as source:\n",
    "                    print(\"Jarvis Active...\")\n",
    "                    audio = r.listen(source)\n",
    "                    command = r.recognize_google(audio)\n",
    "\n",
    "                    processCommand(command)\n",
    "\n",
    "\n",
    "        except Exception as e:\n",
    "            print(\"Error; {0}\".format(e))\n",
    "\n",
    "\n"
   ]
  },
  {
   "cell_type": "code",
   "execution_count": null,
   "id": "355a9042-6dae-421f-b171-9286d873946c",
   "metadata": {},
   "outputs": [],
   "source": []
  }
 ],
 "metadata": {
  "kernelspec": {
   "display_name": "Python [conda env:base] *",
   "language": "python",
   "name": "conda-base-py"
  },
  "language_info": {
   "codemirror_mode": {
    "name": "ipython",
    "version": 3
   },
   "file_extension": ".py",
   "mimetype": "text/x-python",
   "name": "python",
   "nbconvert_exporter": "python",
   "pygments_lexer": "ipython3",
   "version": "3.12.7"
  }
 },
 "nbformat": 4,
 "nbformat_minor": 5
}
